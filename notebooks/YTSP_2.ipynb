{
 "cells": [
  {
   "cell_type": "markdown",
   "metadata": {
    "id": "8HV4_NmfRuC0"
   },
   "source": [
    "**IMPORTED LIBRARIES**"
   ]
  },
  {
   "cell_type": "code",
   "execution_count": null,
   "metadata": {
    "colab": {
     "base_uri": "https://localhost:8080/"
    },
    "collapsed": true,
    "id": "g9VMXQkNITVZ",
    "outputId": "b5388581-d053-4d87-b66c-db2d7157a87e"
   },
   "outputs": [],
   "source": [
    "import pandas as pd\n",
    "import numpy as np\n",
    "from sklearn.model_selection import train_test_split\n",
    "from sklearn.ensemble import RandomForestRegressor\n",
    "from sklearn.linear_model import Ridge\n",
    "from sklearn.metrics import mean_squared_error\n",
    "from catboost import CatBoostRegressor, Pool\n",
    "from xgboost import XGBRegressor\n",
    "from lightgbm import LGBMRegressor\n",
    "from sklearn.impute import SimpleImputer\n"
   ]
  },
  {
   "cell_type": "markdown",
   "metadata": {
    "id": "O4IvfhwLSBq1"
   },
   "source": [
    "**LOADING DATA FOR USE**"
   ]
  },
  {
   "cell_type": "code",
   "execution_count": null,
   "metadata": {
    "id": "BM_T09JASVi7"
   },
   "outputs": [],
   "source": [
    "train_file = '/content/drive/MyDrive/YTSP/Train.csv'\n",
    "test_file = '/content/drive/MyDrive/YTSP/Test.csv'\n",
    "sample_submission_file = '/content/drive/MyDrive/YTSP/SampleSubmission.csv'\n",
    "\n",
    "train_data = pd.read_csv(train_file)\n",
    "test_data = pd.read_csv(test_file)\n",
    "sample_submission = pd.read_csv(sample_submission_file)\n"
   ]
  },
  {
   "cell_type": "markdown",
   "metadata": {
    "id": "JRkH3RsZSci0"
   },
   "source": [
    "**EXAMINING AND CLEANING DATA**"
   ]
  },
  {
   "cell_type": "code",
   "execution_count": null,
   "metadata": {
    "id": "xKIL3h3xSrUD"
   },
   "outputs": [],
   "source": [
    "# Drop rows where the target variable is missing\n",
    "train_data = train_data.dropna(subset=['target'])\n",
    "\n",
    "# Identify numerical and categorical columns\n",
    "numerical_columns = train_data.select_dtypes(include=['float64', 'int64']).columns.difference(['target'])\n",
    "categorical_columns = train_data.select_dtypes(include=['object']).columns.difference(['ID'])\n",
    "\n",
    "# Remove columns with all missing values\n",
    "train_data = train_data.dropna(axis=1, how='all')\n",
    "test_data = test_data.dropna(axis=1, how='all')\n",
    "\n",
    "# Recalculate numerical columns after dropping columns\n",
    "numerical_columns = train_data.select_dtypes(include=['float64', 'int64']).columns.difference(['target'])\n",
    "\n",
    "# Handle missing values with SimpleImputer\n",
    "num_imputer = SimpleImputer(strategy='median')  # Median for numerical columns\n",
    "cat_imputer = SimpleImputer(strategy='most_frequent')  # Mode for categorical columns\n",
    "\n",
    "# Apply imputers to numerical columns explicitly\n",
    "train_data[numerical_columns] = pd.DataFrame(\n",
    "    num_imputer.fit_transform(train_data[numerical_columns]),\n",
    "    columns=numerical_columns,\n",
    "    index=train_data.index\n",
    ")\n",
    "test_data[numerical_columns] = pd.DataFrame(\n",
    "    num_imputer.transform(test_data[numerical_columns]),\n",
    "    columns=numerical_columns,\n",
    "    index=test_data.index\n",
    ")\n",
    "\n",
    "# Apply imputers to categorical columns explicitly\n",
    "for col in categorical_columns:\n",
    "    # Impute missing values for categorical columns\n",
    "    train_data[col] = cat_imputer.fit_transform(train_data[[col]].values).ravel()\n",
    "    test_data[col] = cat_imputer.transform(test_data[[col]].values).ravel()\n",
    "\n",
    "\n",
    "# Convert 'day' column to day of the week\n",
    "if 'day' in train_data.columns:\n",
    "    train_data['day'] = pd.to_datetime(train_data['day'], errors='coerce').dt.dayofweek.fillna(0).astype(int)\n",
    "if 'day' in test_data.columns:\n",
    "    test_data['day'] = pd.to_datetime(test_data['day'], errors='coerce').dt.dayofweek.fillna(0).astype(int)\n",
    "\n",
    "# Encode categorical variables\n",
    "for col in categorical_columns:\n",
    "    train_data[col] = train_data[col].astype('category').cat.codes\n",
    "    test_data[col] = test_data[col].astype('category').cat.codes\n",
    "\n",
    "# Drop irrelevant columns\n",
    "columns_to_drop = ['ID', 'timestamp', '15_min_interval']\n",
    "X_train = train_data.drop(columns=columns_to_drop + ['target'], errors='ignore')\n",
    "y_train = train_data['target']\n",
    "X_test = test_data.drop(columns=columns_to_drop, errors='ignore')\n",
    "\n",
    "# Align X_test with X_train\n",
    "missing_cols = set(X_train.columns) - set(X_test.columns)\n",
    "for col in missing_cols:\n",
    "    X_test[col] = 0  # Add missing columns to X_test with default value 0\n",
    "X_test = X_test[X_train.columns]  # Ensure column order matches"
   ]
  },
  {
   "cell_type": "markdown",
   "metadata": {
    "id": "7wycfGE6TZok"
   },
   "source": [
    "**TRAINING AND EVALUATING MODEL**"
   ]
  },
  {
   "cell_type": "code",
   "execution_count": null,
   "metadata": {
    "id": "9aHVQx1qTx7s"
   },
   "outputs": [],
   "source": [
    "# Split training data for validation\n",
    "X_train_split, X_val_split, y_train_split, y_val_split = train_test_split(\n",
    "    X_train, y_train, test_size=0.2, random_state=42\n",
    ")\n",
    "\n",
    "# Define models\n",
    "models = {\n",
    "    \"CatBoost\": CatBoostRegressor(iterations=1000, learning_rate=0.1, depth=6, loss_function='RMSE', verbose=100),\n",
    "    \"RandomForest\": RandomForestRegressor(n_estimators=200, random_state=42),\n",
    "    \"XGBoost\": XGBRegressor(objective='reg:squarederror', n_estimators=500, max_depth=6, learning_rate=0.1),\n",
    "    \"LightGBM\": LGBMRegressor(n_estimators=500, learning_rate=0.1, max_depth=6),\n",
    "    \"Ridge\": Ridge(alpha=1.0)\n",
    "}\n",
    "\n",
    "# Train and evaluate models\n",
    "results = {}\n",
    "for model_name, model in models.items():\n",
    "    print(f\"Training {model_name}...\")\n",
    "    if model_name == \"CatBoost\":\n",
    "        train_pool = Pool(X_train_split, y_train_split)\n",
    "        val_pool = Pool(X_val_split, y_val_split)\n",
    "        model.fit(train_pool, eval_set=val_pool, verbose=100)\n",
    "    else:\n",
    "        model.fit(X_train_split, y_train_split)\n",
    "\n",
    "    # Predict on validation set\n",
    "    val_predictions = model.predict(X_val_split)\n",
    "    mse = mean_squared_error(y_val_split, val_predictions, squared=False)\n",
    "    results[model_name] = mse\n",
    "    print(f\"{model_name} RMSE: {mse}\")\n",
    "\n",
    "# Choose the best model based on validation RMSE\n",
    "best_model_name = min(results, key=results.get)\n",
    "print(f\"Best model: {best_model_name} with RMSE: {results[best_model_name]}\")\n",
    "best_model = models[best_model_name]"
   ]
  },
  {
   "cell_type": "markdown",
   "metadata": {
    "id": "hbtKTr9iURDF"
   },
   "source": [
    "**PREDICTIONS**"
   ]
  },
  {
   "cell_type": "code",
   "execution_count": null,
   "metadata": {
    "id": "vr5u_oxOUQQ8"
   },
   "outputs": [],
   "source": [
    "# Final Predictions\n",
    "final_predictions = best_model.predict(X_test)\n",
    "\n",
    "# Save Predictions\n",
    "sample_submission['target'] = final_predictions\n",
    "sample_submission.to_csv('/content/drive/MyDrive/YTSP/Submissions.csv', index=False)\n",
    "\n",
    "print(\"Model training and predictions completed successfully.\")"
   ]
  }
 ],
 "metadata": {
  "accelerator": "GPU",
  "colab": {
   "gpuType": "T4",
   "provenance": []
  },
  "kernelspec": {
   "display_name": "Python 3",
   "name": "python3"
  },
  "language_info": {
   "name": "python"
  }
 },
 "nbformat": 4,
 "nbformat_minor": 0
}
